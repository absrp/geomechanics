{
 "cells": [
  {
   "cell_type": "markdown",
   "metadata": {},
   "source": [
    "Under construction"
   ]
  },
  {
   "cell_type": "markdown",
   "metadata": {},
   "source": [
    "### Understanding energy release rate G in earthquakes under different analytical solutions"
   ]
  },
  {
   "cell_type": "markdown",
   "metadata": {},
   "source": [
    "Weng and Ampuero (2019):\n",
    "\n",
    "$G_c = G_0 \\left( 1 - \\frac{\\dot{v_r} W'}{v_s^2 \\alpha_s^3} \\right) $\n",
    "\n",
    "where \n",
    "\n",
    "$ W' =\\gamma W $\n",
    "\n",
    "\"In a shallow fault on a half‐space, $\\gamma$ = $\\frac{2}{\\pi}$. For a buried fault the value of $\\gamma$ is between $\\frac{1}{\\pi}$ and $\\frac{2}{\\pi}$.\"\n",
    "\n",
    "\n",
    "| Variable  | Description                   | Unit         |\n",
    "|-----------|-------------------------------|--------------|\n",
    "| $ G_c $  | Critical energy release rate   | J/m²         |\n",
    "|$ G_0 $| Reference energy release rate  | J/m²         |\n",
    "| $ \\dot{v_r} $ | Rate of change of velocity     | m/s²         |\n",
    "| $ W' $     | Effective fault width  (seismogenic zone)          | m     |\n",
    "| $ \\gamma $ | Coefficient to account for depth-distribution of slip  | - |\n",
    "| $ v_s$    | Shear wave velocity            | m/s          |\n",
    "| $ \\alpha_s $ | Shear wave velocity factor   | - |\n",
    "\n"
   ]
  },
  {
   "cell_type": "code",
   "execution_count": 1,
   "metadata": {},
   "outputs": [],
   "source": [
    "def Weng_Ampuero_2009(G0, vr_dot, W_prime, vs, alpha_s):\n",
    "    \"\"\"\n",
    "    Calculate the critical energy release rate for a pulse-like rupture based on the equation from Weng and Ampuero (2009).\n",
    "\n",
    "    Parameters:\n",
    "    G0 (float): Reference energy release rate (J/m²)\n",
    "    vr_dot (float): Rate of change of velocity (m/s²)\n",
    "    W_prime (float): Effective fault width (m)\n",
    "    vs (float): Shear wave velocity (m/s)\n",
    "    alpha_s (float): Shear wave velocity factor (dimensionless)\n",
    "\n",
    "    Returns:\n",
    "    float: Critical energy release rate (J/m²)\n",
    "    \"\"\"\n",
    "    return G0 * (1 - (vr_dot * W_prime) / (vs**2 * alpha_s**3))\n",
    "\n",
    "# Example usage:\n",
    "# Gc = Weng_Ampuero_2009(G0=1.0, vr_dot=0.1, W_prime=0.2, vs=3.0, alpha_s=0.5)\n",
    "# print(Gc)\n"
   ]
  },
  {
   "cell_type": "code",
   "execution_count": null,
   "metadata": {},
   "outputs": [],
   "source": []
  }
 ],
 "metadata": {
  "kernelspec": {
   "display_name": "Python 3",
   "language": "python",
   "name": "python3"
  },
  "language_info": {
   "codemirror_mode": {
    "name": "ipython",
    "version": 3
   },
   "file_extension": ".py",
   "mimetype": "text/x-python",
   "name": "python",
   "nbconvert_exporter": "python",
   "pygments_lexer": "ipython3",
   "version": "3.11.6"
  }
 },
 "nbformat": 4,
 "nbformat_minor": 2
}
