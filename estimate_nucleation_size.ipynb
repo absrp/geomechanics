{
 "cells": [
  {
   "cell_type": "code",
   "execution_count": 2,
   "metadata": {},
   "outputs": [],
   "source": [
    "import math\n",
    "from typing import Optional"
   ]
  },
  {
   "cell_type": "markdown",
   "metadata": {},
   "source": [
    "### Theoretical estimates of nucleation size\n",
    "\n",
    "Theoretical estimates of nucleation size considering the different solutions of Rice and Ruina (1983), Rubin and Ampuero (2005), and Chen and Lapusta (2009), compiled in Laspusta and Liu (2009)\n",
    "\n",
    "Dynamic instability can only occur if the velocity weakening zone of the fault exceeds the nucleation size h*\n",
    "\n",
    "\n",
    "Rice and Ruina, 1983\n",
    "\n",
    "$$ h_{RR}^* = \\frac{\\pi}{4} \\frac{\\mu^* L}{(b - a) \\sigma} $$ \n",
    "\n",
    "Rubin and Ampuero, 2005\n",
    "\n",
    "$$ h_{RA}^* = \\frac{2}{\\pi} \\frac{\\mu^* b L}{(b - a)^2 \\sigma} $$ \n",
    "\n",
    "Chen and Lapusta, 2009\n",
    "\n",
    "$$ h^* = \\left( \\frac{\\pi^2}{4} \\right) h_{RA}^* $$ \n",
    "\n",
    "Where $\\mu^*$ depends on crack mode as follows:\n",
    "\n",
    "Mode III\n",
    "\n",
    "$$\\mu^* = \\mu$$ \n",
    "\n",
    "Mode II\n",
    "\n",
    "$$\\mu^* = \\frac{\\mu}{1-\\nu}$$ "
   ]
  },
  {
   "cell_type": "markdown",
   "metadata": {},
   "source": [
    "Variables\n",
    "\n",
    "| Variable   | Description                                                      | Units         |\n",
    "|------------|------------------------------------------------------------------|---------------|\n",
    "| $h_{RR}^*$| Characteristic nucleation size (Rice and Ruina, 1983)        | m             |\n",
    "| $h_{RA}^*$ | Characteristic nucleation size (Rubin and Ampuero, 2005)         | m           |\n",
    "| $ h^* $    | Characteristic nucleation size (Chen and Lapusta, 2009)   | m             |\n",
    "| $ \\mu^* $   | Effective shear modulus                                        | Pa            |\n",
    "| $ \\mu $      | Shear modulus                                                  | Pa            |\n",
    "| $ L $    | Characteristic length scale                                    | m             |\n",
    "| $ b$        | Rate-and-state friction parameter                             | -             |\n",
    "| $ a $      | Rate-and-state friction parameter                             | -             |\n",
    "| $ \\sigma $| Effective normal stress                                        | Pa            |\n",
    "| $ \\nu $      | Poisson's ratio (only relevant for Mode II)                    | -             |\n"
   ]
  },
  {
   "cell_type": "markdown",
   "metadata": {},
   "source": [
    "Functions for each estimate"
   ]
  },
  {
   "cell_type": "code",
   "execution_count": 3,
   "metadata": {},
   "outputs": [],
   "source": [
    "# kdc: add default key value pairs for each input\n",
    "\n",
    "def mu_star(\n",
    "    crack_mode: str, \n",
    "    shear_mod: float ,\n",
    "    poisson_ratio: Optional[float] = None\n",
    ") -> float:  \n",
    "    '''Estimate mu_star based on crack mode'''\n",
    "    \n",
    "    if crack_mode == 'III':\n",
    "        mu_star = shear_mod\n",
    "    elif crack_mode == 'II':\n",
    "        mu_star = shear_mod/(1-poisson_ratio)\n",
    "    else:\n",
    "        NameError(\"Crack mode is required to estimate mu_star\") # EQs are mixed mode II and III so no mode I\n",
    "    return mu_star\n",
    "\n",
    "def nucleation_Rice_Ruina(mu_star,L,b,a,sigma):\n",
    "    ''' Nucleation size under Rice and Ruina (1983) estimate based on linear stability analysis of steady sliding'''\n",
    "    h_RR = (math.pi / 4) * (mu_star * L / ((b - a) * sigma))\n",
    "    # L has units meters, sigma has units Pascals, mu_star has units Pascals\n",
    "    return h_RR\n",
    "\n",
    "def nucleation_Rubin_Ampuero(mu_star,b,L,a,sigma):\n",
    "    '''Nucleation size under Rubin and Ampuero (2005) based on energy balance for quasi-static growing crack'''\n",
    "    h_RA = (2 / math.pi) * (mu_star * b * L / ((b - a) ** 2 * sigma))\n",
    "    # L has units meters, sigma has units Pascals, mu_star has units Pascals\n",
    "    return h_RA\n",
    "\n",
    "def nucleation_Chen_Lapusta(h_RA):\n",
    "    '''Nucleation size under Chen and Lapusta (2005), 3D approximation'''\n",
    "    h = (math.pi ** 2 / 4) * h_RA\n",
    "    # h_RA has units meters\n",
    "    return h\n",
    "\n",
    "def nucleation_over_cell(nucleation_length,cell_size):\n",
    "    '''Ratio of the nucleation length to the maximum grid size'''\n",
    "    return nucleation_length/cell_size"
   ]
  },
  {
   "cell_type": "markdown",
   "metadata": {},
   "source": [
    "### Estimate nucleation size for set of parameters"
   ]
  },
  {
   "cell_type": "code",
   "execution_count": 4,
   "metadata": {},
   "outputs": [],
   "source": [
    "# mechanical parameters\n",
    "a = 0.003\n",
    "b = 0.006\n",
    "shear_mod = 2.0e10 # Pa\n",
    "L = 5e-3 # characteristic slip distance Dc, m\n",
    "sigma = 20e6 # normal stress, Pa\n",
    "poisson_ratio = 0.2\n",
    "\n",
    "# maximum allowed grid size\n",
    "grid_size_max = 300\n",
    "\n",
    "# estimate mu_star as a function of crack mode\n",
    "mu_star_II = mu_star('II',shear_mod,poisson_ratio)\n",
    "mu_star_III = mu_star('III',shear_mod,poisson_ratio)"
   ]
  },
  {
   "cell_type": "markdown",
   "metadata": {},
   "source": [
    "Estimate nucleation size"
   ]
  },
  {
   "cell_type": "code",
   "execution_count": 5,
   "metadata": {},
   "outputs": [],
   "source": [
    "h_RR_modeII = nucleation_Rice_Ruina(mu_star_II,L,b,a,sigma)\n",
    "h_RA_modeII = nucleation_Rubin_Ampuero(mu_star_II,b,L,a,sigma)\n",
    "h_modeII = nucleation_Chen_Lapusta(h_RA_modeII)\n",
    "\n",
    "h_RR_modeIII = nucleation_Rice_Ruina(mu_star_III,L,b,a,sigma)\n",
    "h_RA_modeIII = nucleation_Rubin_Ampuero(mu_star_III,b,L,a,sigma)\n",
    "h_modeIII = nucleation_Chen_Lapusta(h_RA_modeIII)"
   ]
  },
  {
   "cell_type": "code",
   "execution_count": 6,
   "metadata": {},
   "outputs": [
    {
     "name": "stdout",
     "output_type": "stream",
     "text": [
      "Minimum nucleation size: 1308.996938995747\n",
      "Maximum nucleation size: 6544.984694978736\n"
     ]
    }
   ],
   "source": [
    "nucleation_sizes = {\n",
    "    'h_RR_modeII': h_RR_modeII,\n",
    "    'h_RA_modeII': h_RA_modeII,\n",
    "    'h_modeII': h_modeII,\n",
    "    'h_RR_modeIII':h_RR_modeIII,\n",
    "    'h_RA_modeIII': h_RA_modeIII,\n",
    "    'h_modeIII': h_modeIII\n",
    "}\n",
    "\n",
    "nucleation_sizes_values = list(nucleation_sizes.values())\n",
    "min_nucleation_sizes = min(nucleation_sizes_values)\n",
    "max_nucleation_sizes = max(nucleation_sizes_values)\n",
    "\n",
    "print('Minimum nucleation size:',min_nucleation_sizes)\n",
    "print('Maximum nucleation size:',max_nucleation_sizes)"
   ]
  },
  {
   "cell_type": "markdown",
   "metadata": {},
   "source": [
    "Check ratio of nucleation size and minimum grid size"
   ]
  },
  {
   "cell_type": "code",
   "execution_count": 7,
   "metadata": {},
   "outputs": [
    {
     "name": "stdout",
     "output_type": "stream",
     "text": [
      "Minimum ratio: 4.363323129985823\n",
      "Maximum ratio: 21.81661564992912\n"
     ]
    }
   ],
   "source": [
    "ratios = {\n",
    "    'h_RR_modeII': nucleation_over_cell(h_RR_modeII, grid_size_max),\n",
    "    'h_RA_modeII': nucleation_over_cell(h_RA_modeII, grid_size_max),\n",
    "    'h_modeII': nucleation_over_cell(h_modeII, grid_size_max),\n",
    "    'h_RR_modeIII': nucleation_over_cell(h_RR_modeIII, grid_size_max),\n",
    "    'h_RA_modeIII': nucleation_over_cell(h_RA_modeIII, grid_size_max),\n",
    "    'h_modeIII': nucleation_over_cell(h_modeIII, grid_size_max)\n",
    "}\n",
    "\n",
    "ratio_values = list(ratios.values())\n",
    "min_ratio = min(ratio_values)\n",
    "max_ratio = max(ratio_values)\n",
    "\n",
    "print('Minimum ratio:',min_ratio)\n",
    "print('Maximum ratio:',max_ratio)\n",
    "\n",
    "if min_ratio < 3:\n",
    "    print(\"Warning: your maximum grid size may be too large to properly resolve earthquake nucleation\")"
   ]
  }
 ],
 "metadata": {
  "kernelspec": {
   "display_name": "event_synchronization",
   "language": "python",
   "name": "python3"
  },
  "language_info": {
   "codemirror_mode": {
    "name": "ipython",
    "version": 3
   },
   "file_extension": ".py",
   "mimetype": "text/x-python",
   "name": "python",
   "nbconvert_exporter": "python",
   "pygments_lexer": "ipython3",
   "version": "3.12.2"
  }
 },
 "nbformat": 4,
 "nbformat_minor": 2
}
